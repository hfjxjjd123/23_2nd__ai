{
 "cells": [
  {
   "cell_type": "markdown",
   "id": "41a1f959",
   "metadata": {},
   "source": [
    "# Neural Network 구축방법"
   ]
  },
  {
   "cell_type": "code",
   "execution_count": 35,
   "id": "105083ce",
   "metadata": {},
   "outputs": [],
   "source": [
    "import torch.nn as nn\n",
    "import torch as torch\n",
    "import torch.optim as optim"
   ]
  },
  {
   "cell_type": "markdown",
   "id": "cc426374",
   "metadata": {},
   "source": [
    "# 모듈 사용의 이해\n",
    "torch.nn, torch.optim 등의 모듈을 사용하고 있다.  \n",
    "-> '모듈'이므로, 특수 목적으로 사용하는 경우  \n",
    "=> 어떤 목적인지, 어떤 값들을 모듈에서 불러올 수 있는지 생각해볼 수 있다.  \n",
    "  \n",
    "### torch.nn = for Forward-Propagation\n",
    "### torch.optim = for Backward-Propagation"
   ]
  },
  {
   "cell_type": "markdown",
   "id": "ec5091f4",
   "metadata": {},
   "source": [
    "## torch.nn\n",
    "NN을 구성하기 위한 모듈들 다수 포함"
   ]
  },
  {
   "cell_type": "code",
   "execution_count": 3,
   "id": "7ad53f47",
   "metadata": {
    "collapsed": true
   },
   "outputs": [
    {
     "data": {
      "text/plain": [
       "['AdaptiveAvgPool1d',\n",
       " 'AdaptiveAvgPool2d',\n",
       " 'AdaptiveAvgPool3d',\n",
       " 'AdaptiveLogSoftmaxWithLoss',\n",
       " 'AdaptiveMaxPool1d',\n",
       " 'AdaptiveMaxPool2d',\n",
       " 'AdaptiveMaxPool3d',\n",
       " 'AlphaDropout',\n",
       " 'AvgPool1d',\n",
       " 'AvgPool2d',\n",
       " 'AvgPool3d',\n",
       " 'BCELoss',\n",
       " 'BCEWithLogitsLoss',\n",
       " 'BatchNorm1d',\n",
       " 'BatchNorm2d',\n",
       " 'BatchNorm3d',\n",
       " 'Bilinear',\n",
       " 'CELU',\n",
       " 'CTCLoss',\n",
       " 'ChannelShuffle',\n",
       " 'CircularPad1d',\n",
       " 'CircularPad2d',\n",
       " 'CircularPad3d',\n",
       " 'ConstantPad1d',\n",
       " 'ConstantPad2d',\n",
       " 'ConstantPad3d',\n",
       " 'Container',\n",
       " 'Conv1d',\n",
       " 'Conv2d',\n",
       " 'Conv3d',\n",
       " 'ConvTranspose1d',\n",
       " 'ConvTranspose2d',\n",
       " 'ConvTranspose3d',\n",
       " 'CosineEmbeddingLoss',\n",
       " 'CosineSimilarity',\n",
       " 'CrossEntropyLoss',\n",
       " 'CrossMapLRN2d',\n",
       " 'DataParallel',\n",
       " 'Dropout',\n",
       " 'Dropout1d',\n",
       " 'Dropout2d',\n",
       " 'Dropout3d',\n",
       " 'ELU',\n",
       " 'Embedding',\n",
       " 'EmbeddingBag',\n",
       " 'FeatureAlphaDropout',\n",
       " 'Flatten',\n",
       " 'Fold',\n",
       " 'FractionalMaxPool2d',\n",
       " 'FractionalMaxPool3d',\n",
       " 'GELU',\n",
       " 'GLU',\n",
       " 'GRU',\n",
       " 'GRUCell',\n",
       " 'GaussianNLLLoss',\n",
       " 'GroupNorm',\n",
       " 'Hardshrink',\n",
       " 'Hardsigmoid',\n",
       " 'Hardswish',\n",
       " 'Hardtanh',\n",
       " 'HingeEmbeddingLoss',\n",
       " 'HuberLoss',\n",
       " 'Identity',\n",
       " 'InstanceNorm1d',\n",
       " 'InstanceNorm2d',\n",
       " 'InstanceNorm3d',\n",
       " 'KLDivLoss',\n",
       " 'L1Loss',\n",
       " 'LPPool1d',\n",
       " 'LPPool2d',\n",
       " 'LSTM',\n",
       " 'LSTMCell',\n",
       " 'LayerNorm',\n",
       " 'LazyBatchNorm1d',\n",
       " 'LazyBatchNorm2d',\n",
       " 'LazyBatchNorm3d',\n",
       " 'LazyConv1d',\n",
       " 'LazyConv2d',\n",
       " 'LazyConv3d',\n",
       " 'LazyConvTranspose1d',\n",
       " 'LazyConvTranspose2d',\n",
       " 'LazyConvTranspose3d',\n",
       " 'LazyInstanceNorm1d',\n",
       " 'LazyInstanceNorm2d',\n",
       " 'LazyInstanceNorm3d',\n",
       " 'LazyLinear',\n",
       " 'LeakyReLU',\n",
       " 'Linear',\n",
       " 'LocalResponseNorm',\n",
       " 'LogSigmoid',\n",
       " 'LogSoftmax',\n",
       " 'MSELoss',\n",
       " 'MarginRankingLoss',\n",
       " 'MaxPool1d',\n",
       " 'MaxPool2d',\n",
       " 'MaxPool3d',\n",
       " 'MaxUnpool1d',\n",
       " 'MaxUnpool2d',\n",
       " 'MaxUnpool3d',\n",
       " 'Mish',\n",
       " 'Module',\n",
       " 'ModuleDict',\n",
       " 'ModuleList',\n",
       " 'MultiLabelMarginLoss',\n",
       " 'MultiLabelSoftMarginLoss',\n",
       " 'MultiMarginLoss',\n",
       " 'MultiheadAttention',\n",
       " 'NLLLoss',\n",
       " 'NLLLoss2d',\n",
       " 'PReLU',\n",
       " 'PairwiseDistance',\n",
       " 'Parameter',\n",
       " 'ParameterDict',\n",
       " 'ParameterList',\n",
       " 'PixelShuffle',\n",
       " 'PixelUnshuffle',\n",
       " 'PoissonNLLLoss',\n",
       " 'RNN',\n",
       " 'RNNBase',\n",
       " 'RNNCell',\n",
       " 'RNNCellBase',\n",
       " 'RReLU',\n",
       " 'ReLU',\n",
       " 'ReLU6',\n",
       " 'ReflectionPad1d',\n",
       " 'ReflectionPad2d',\n",
       " 'ReflectionPad3d',\n",
       " 'ReplicationPad1d',\n",
       " 'ReplicationPad2d',\n",
       " 'ReplicationPad3d',\n",
       " 'SELU',\n",
       " 'Sequential',\n",
       " 'SiLU',\n",
       " 'Sigmoid',\n",
       " 'SmoothL1Loss',\n",
       " 'SoftMarginLoss',\n",
       " 'Softmax',\n",
       " 'Softmax2d',\n",
       " 'Softmin',\n",
       " 'Softplus',\n",
       " 'Softshrink',\n",
       " 'Softsign',\n",
       " 'SyncBatchNorm',\n",
       " 'Tanh',\n",
       " 'Tanhshrink',\n",
       " 'Threshold',\n",
       " 'Transformer',\n",
       " 'TransformerDecoder',\n",
       " 'TransformerDecoderLayer',\n",
       " 'TransformerEncoder',\n",
       " 'TransformerEncoderLayer',\n",
       " 'TripletMarginLoss',\n",
       " 'TripletMarginWithDistanceLoss',\n",
       " 'Unflatten',\n",
       " 'Unfold',\n",
       " 'UninitializedBuffer',\n",
       " 'UninitializedParameter',\n",
       " 'Upsample',\n",
       " 'UpsamplingBilinear2d',\n",
       " 'UpsamplingNearest2d',\n",
       " 'ZeroPad1d',\n",
       " 'ZeroPad2d',\n",
       " 'ZeroPad3d',\n",
       " '__builtins__',\n",
       " '__cached__',\n",
       " '__doc__',\n",
       " '__file__',\n",
       " '__loader__',\n",
       " '__name__',\n",
       " '__package__',\n",
       " '__path__',\n",
       " '__spec__',\n",
       " '_reduction',\n",
       " 'common_types',\n",
       " 'factory_kwargs',\n",
       " 'functional',\n",
       " 'grad',\n",
       " 'init',\n",
       " 'intrinsic',\n",
       " 'modules',\n",
       " 'parallel',\n",
       " 'parameter',\n",
       " 'qat',\n",
       " 'quantizable',\n",
       " 'quantized',\n",
       " 'utils']"
      ]
     },
     "execution_count": 3,
     "metadata": {},
     "output_type": "execute_result"
    }
   ],
   "source": [
    "dir(nn)"
   ]
  },
  {
   "cell_type": "markdown",
   "id": "198639c7",
   "metadata": {},
   "source": [
    "Linear(x->y) 노드 개수를 의미,  \n",
    "x는 샘플수가 아니라 input 노드의 개수라는 점  \n",
    "자동으로 모델을 생성해줌"
   ]
  },
  {
   "cell_type": "markdown",
   "id": "c33f7c11",
   "metadata": {},
   "source": [
    "### batch\n",
    "연산은 디폴트가 batch  \n",
    "-> parameter는 모든 sample의 평균으로 treat 된다."
   ]
  },
  {
   "cell_type": "code",
   "execution_count": 19,
   "id": "d4cf219e",
   "metadata": {},
   "outputs": [
    {
     "data": {
      "text/plain": [
       "tensor([[0.7356],\n",
       "        [0.7356],\n",
       "        [0.7356],\n",
       "        [0.7356],\n",
       "        [0.7356],\n",
       "        [0.7356],\n",
       "        [0.7356],\n",
       "        [0.7356],\n",
       "        [0.7356],\n",
       "        [0.7356]], grad_fn=<AddmmBackward0>)"
      ]
     },
     "execution_count": 19,
     "metadata": {},
     "output_type": "execute_result"
    }
   ],
   "source": [
    "x = torch.ones(10,1) #10samples, 1nodes\n",
    "\n",
    "linear_model = nn.Linear(1,1)\n",
    "linear_model(x)"
   ]
  },
  {
   "cell_type": "markdown",
   "id": "df913f60",
   "metadata": {},
   "source": [
    "-> batch 처리된 결과 sample 별로 forwarding 한 결과는 언제나 같을 수 밖에..."
   ]
  },
  {
   "cell_type": "markdown",
   "id": "6dd12eb2",
   "metadata": {},
   "source": [
    "## TENSOR.unsqueeze()\n",
    "batch 처리가 default -> 입력값이 (#samples,1) 꼴이어야 한다.  \n",
    "하지만 입력 자체를 받았을 때, (11) 꼴이므로 축을 하나 추가해야하는 상황  \n",
    "squeeze의 반대 -> axis 한 개 추가"
   ]
  },
  {
   "cell_type": "code",
   "execution_count": 51,
   "id": "2a5472bb",
   "metadata": {},
   "outputs": [
    {
     "data": {
      "text/plain": [
       "torch.Size([11, 1])"
      ]
     },
     "execution_count": 51,
     "metadata": {},
     "output_type": "execute_result"
    }
   ],
   "source": [
    "t_c = [0.5, 14.0, 15.0, 28.0, 11.0, 8.0, 3.0, -4.0, 6.0, 13.0, 21.0] \n",
    "t_u = [35.7, 55.9, 58.2, 81.9, 56.3, 48.9, 33.9, 21.8, 48.4, 60.4, 68.4] \n",
    "t_c = torch.tensor(t_c).unsqueeze(1)\n",
    "t_u = torch.tensor(t_u).unsqueeze(1)\n",
    "\n",
    "n_val = int(0.2*t_c.shape[0])\n",
    "shuffled_index = torch.randperm(t_c.shape[0])\n",
    "\n",
    "shuffled_u = t_u[shuffled_index]\n",
    "shuffled_c = t_c[shuffled_index]\n",
    "t_u_train = shuffled_u[:-n_val]\n",
    "t_u_val = shuffled_u[-n_val:]\n",
    "t_c_train = shuffled_c[:-n_val]\n",
    "t_c_val = shuffled_c[-n_val:]\n",
    "\n",
    "\n",
    "t_u.shape"
   ]
  },
  {
   "cell_type": "code",
   "execution_count": 33,
   "id": "c5e7718b",
   "metadata": {
    "scrolled": false
   },
   "outputs": [
    {
     "data": {
      "text/plain": [
       "tensor([[19.8780],\n",
       "        [31.0213],\n",
       "        [32.2901],\n",
       "        [45.3643],\n",
       "        [31.2420],\n",
       "        [27.1598],\n",
       "        [18.8850],\n",
       "        [12.2100],\n",
       "        [26.8839],\n",
       "        [33.5038],\n",
       "        [37.9170]], grad_fn=<AddmmBackward0>)"
      ]
     },
     "execution_count": 33,
     "metadata": {},
     "output_type": "execute_result"
    }
   ],
   "source": [
    "linear_model(t_u)"
   ]
  },
  {
   "cell_type": "markdown",
   "id": "20db68da",
   "metadata": {},
   "source": [
    "-> input 값이 달라서지 파라미터는 동일하게 적용된 상태임"
   ]
  },
  {
   "cell_type": "markdown",
   "id": "14c63da0",
   "metadata": {},
   "source": [
    "## Optimizer in torch.nn(2모듈의 조합)"
   ]
  },
  {
   "cell_type": "markdown",
   "id": "7a483b44",
   "metadata": {},
   "source": [
    "### torch.nn의 범위\n",
    "nn.OOO() -> forward-propagation model 메소드를 의미 -> OOO.parameters() 등으로 접근  \n",
    "기타 다른 torch 서비스에 접근하고 싶다? 기존에 알고 있는 torch.optim 등을 이용  "
   ]
  },
  {
   "cell_type": "code",
   "execution_count": 63,
   "id": "7ca7ebd6",
   "metadata": {},
   "outputs": [],
   "source": [
    "linear_model = nn.Linear(1,1)\n",
    "optimizer = optim.SGD(\n",
    "    params = linear_model.parameters(),\n",
    "    lr = 1e-2\n",
    ")"
   ]
  },
  {
   "cell_type": "code",
   "execution_count": 64,
   "id": "777c9d92",
   "metadata": {
    "scrolled": true
   },
   "outputs": [
    {
     "data": {
      "text/plain": [
       "[Parameter containing:\n",
       " tensor([[-0.8033]], requires_grad=True),\n",
       " Parameter containing:\n",
       " tensor([-0.4286], requires_grad=True)]"
      ]
     },
     "execution_count": 64,
     "metadata": {},
     "output_type": "execute_result"
    }
   ],
   "source": [
    "list(linear_model.parameters())"
   ]
  },
  {
   "cell_type": "markdown",
   "id": "1be813ff",
   "metadata": {},
   "source": [
    "### 기타 setup"
   ]
  },
  {
   "cell_type": "code",
   "execution_count": 69,
   "id": "be1e2a63",
   "metadata": {},
   "outputs": [],
   "source": [
    "# 이제는 model을 파라미터로 전달하는.\n",
    "def training_loop(n_epochs, optimizer, model, loss_fn, t_u_train, t_u_val, t_c_train, t_c_val):\n",
    "    for epoch in range(1,n_epochs+1):\n",
    "        t_p_train = model(t_u_train)\n",
    "        loss_train = loss_fn(t_p_train, t_c_train)\n",
    "        \n",
    "        t_p_val = model(t_u_val)\n",
    "        loss_val = loss_fn(t_p_val, t_c_val)\n",
    "        \n",
    "        optimizer.zero_grad()\n",
    "        loss_train.backward()\n",
    "        optimizer.step()\n",
    "        \n",
    "        if epoch == 1 or epoch % 1000 == 0:\n",
    "            print(f\"Epoch {epoch}, Training loss {loss_train.item():.4f},\"f\" Validation loss {loss_val.item():.4f}\")\n",
    "        \n",
    "def loss_fn(t_p, t_c):\n",
    "    cost = (t_c-t_p)**2\n",
    "    return cost.mean()"
   ]
  },
  {
   "cell_type": "markdown",
   "id": "7be1341e",
   "metadata": {},
   "source": [
    "놓친 부분:  \n",
    "Forward Propagation with Nodes를 설정하면?  \n",
    "-> 당연히 params 차원 자동 설정, 자동 init  \n",
    "-> optim.SGD(*model.parameters()*,  lr= ~) 사용"
   ]
  },
  {
   "cell_type": "code",
   "execution_count": 75,
   "id": "5984c1d5",
   "metadata": {},
   "outputs": [
    {
     "name": "stdout",
     "output_type": "stream",
     "text": [
      "Epoch 1, Training loss 110.7468, Validation loss 8.5177\n",
      "Epoch 1000, Training loss 3.0909, Validation loss 7.6520\n",
      "Epoch 2000, Training loss 2.5255, Validation loss 5.9764\n",
      "Epoch 3000, Training loss 2.5147, Validation loss 5.7626\n"
     ]
    },
    {
     "data": {
      "text/plain": [
       "Linear(in_features=1, out_features=1, bias=True)"
      ]
     },
     "execution_count": 75,
     "metadata": {},
     "output_type": "execute_result"
    }
   ],
   "source": [
    "linear_model = nn.Linear(1,1)\n",
    "optimizer = optim.SGD(linear_model.parameters(), lr = 1e-2)\n",
    "\n",
    "t_un_train = t_u_train * 0.1\n",
    "t_un_val = t_u_val * 0.1\n",
    "\n",
    "training_loop(\n",
    "    n_epochs = 3000,\n",
    "    optimizer = optimizer, \n",
    "    model = linear_model, \n",
    "    loss_fn = loss_fn, \n",
    "    t_u_train = t_un_train, \n",
    "    t_u_val = t_un_val, \n",
    "    t_c_train = t_c_train, \n",
    "    t_c_val = t_c_val\n",
    ")\n",
    "linear_model"
   ]
  },
  {
   "cell_type": "markdown",
   "id": "e3e586a3",
   "metadata": {},
   "source": [
    "## nn.MSELoss\n",
    "mean square loss  \n",
    "-> 결국 loss도 forward와 연관이 있다고 볼 수 있기에"
   ]
  },
  {
   "cell_type": "code",
   "execution_count": 77,
   "id": "998329e7",
   "metadata": {},
   "outputs": [
    {
     "name": "stdout",
     "output_type": "stream",
     "text": [
      "Epoch 1, Training loss 109.6206, Validation loss 9.2182\n",
      "Epoch 1000, Training loss 3.0553, Validation loss 7.5869\n",
      "Epoch 2000, Training loss 2.5248, Validation loss 5.9685\n",
      "Epoch 3000, Training loss 2.5147, Validation loss 5.7616\n"
     ]
    },
    {
     "data": {
      "text/plain": [
       "Linear(in_features=1, out_features=1, bias=True)"
      ]
     },
     "execution_count": 77,
     "metadata": {},
     "output_type": "execute_result"
    }
   ],
   "source": [
    "linear_model = nn.Linear(1,1)\n",
    "optimizer = optim.SGD(linear_model.parameters(), lr = 1e-2)\n",
    "\n",
    "training_loop(\n",
    "    n_epochs = 3000,\n",
    "    optimizer = optimizer, \n",
    "    model = linear_model, \n",
    "    loss_fn = nn.MSELoss(), \n",
    "    t_u_train = t_un_train, \n",
    "    t_u_val = t_un_val, \n",
    "    t_c_train = t_c_train, \n",
    "    t_c_val = t_c_val\n",
    ")\n",
    "linear_model"
   ]
  },
  {
   "cell_type": "markdown",
   "id": "f3b23382",
   "metadata": {},
   "source": [
    "# DNN(multi layers)"
   ]
  },
  {
   "cell_type": "markdown",
   "id": "9a88c5ab",
   "metadata": {},
   "source": [
    "Sequential 한 조합으로 nn.Model 완성  \n",
    "nn.OO는 block -> 더 큰 nn.XX를 완성하기 위해 사용가능  "
   ]
  },
  {
   "cell_type": "code",
   "execution_count": 81,
   "id": "5d902350",
   "metadata": {
    "scrolled": true
   },
   "outputs": [
    {
     "data": {
      "text/plain": [
       "Sequential(\n",
       "  (0): Linear(in_features=1, out_features=13, bias=True)\n",
       "  (1): Tanh()\n",
       "  (2): Linear(in_features=13, out_features=1, bias=True)\n",
       ")"
      ]
     },
     "execution_count": 81,
     "metadata": {},
     "output_type": "execute_result"
    }
   ],
   "source": [
    "seq_model = nn.Sequential(\n",
    "    nn.Linear(1,13),\n",
    "    nn.Tanh(),\n",
    "    nn.Linear(13,1)\n",
    ")\n",
    "seq_model"
   ]
  },
  {
   "cell_type": "markdown",
   "id": "d19ea96d",
   "metadata": {},
   "source": [
    "seq_model.name_parameters() 로 이름과 함께 파라미터를 받아와 볼 수 있다"
   ]
  },
  {
   "cell_type": "code",
   "execution_count": 85,
   "id": "29e312dc",
   "metadata": {
    "scrolled": true
   },
   "outputs": [
    {
     "name": "stdout",
     "output_type": "stream",
     "text": [
      "0.weight torch.Size([13, 1])\n",
      "0.bias torch.Size([13])\n",
      "2.weight torch.Size([1, 13])\n",
      "2.bias torch.Size([1])\n"
     ]
    }
   ],
   "source": [
    "for name, param in seq_model.named_parameters():\n",
    "    print(name, param.shape)"
   ]
  },
  {
   "cell_type": "markdown",
   "id": "31676862",
   "metadata": {},
   "source": [
    "### 문제점\n",
    "모델을 정의할 때, 하드코딩으로 시퀀스를 정의해야하는 문제"
   ]
  },
  {
   "cell_type": "code",
   "execution_count": null,
   "id": "6f7d2d23",
   "metadata": {},
   "outputs": [],
   "source": [
    "seq_model = nn.Sequential(\n",
    "    nn.Linear(1,13),\n",
    "    nn.Tanh(),\n",
    "    nn.Linear(13,1)\n",
    ")"
   ]
  },
  {
   "cell_type": "markdown",
   "id": "0a049cf0",
   "metadata": {},
   "source": [
    "### 해결\n",
    "OrderedDict로 key-value로 전달"
   ]
  },
  {
   "cell_type": "code",
   "execution_count": 91,
   "id": "4cf31785",
   "metadata": {},
   "outputs": [
    {
     "data": {
      "text/plain": [
       "Sequential(\n",
       "  (hidden_linear): Linear(in_features=1, out_features=8, bias=True)\n",
       "  (hidden_activation): Tanh()\n",
       "  (output_linear): Linear(in_features=8, out_features=1, bias=True)\n",
       ")"
      ]
     },
     "execution_count": 91,
     "metadata": {},
     "output_type": "execute_result"
    }
   ],
   "source": [
    "from collections import OrderedDict\n",
    "\n",
    "sequence_detail = OrderedDict([\n",
    "    ('hidden_linear', nn.Linear(1,8)),\n",
    "    ('hidden_activation', nn.Tanh()),\n",
    "    ('output_linear', nn.Linear(8,1))\n",
    "])\n",
    "\n",
    "seq_model = nn.Sequential(\n",
    "    sequence_detail\n",
    ")\n",
    "seq_model"
   ]
  },
  {
   "cell_type": "code",
   "execution_count": 94,
   "id": "17bf0dac",
   "metadata": {},
   "outputs": [
    {
     "name": "stdout",
     "output_type": "stream",
     "text": [
      "Epoch 1, Training loss 1.9654, Validation loss 2.3431\n",
      "Epoch 1000, Training loss 1.9026, Validation loss 1.9674\n",
      "Epoch 2000, Training loss 1.8979, Validation loss 2.0215\n",
      "Epoch 3000, Training loss 1.8955, Validation loss 2.0413\n",
      "Epoch 4000, Training loss 1.8938, Validation loss 2.0505\n",
      "Epoch 5000, Training loss 1.8924, Validation loss 2.0508\n",
      "output tensor([[8.2636],\n",
      "        [8.0080]], grad_fn=<AddmmBackward0>)\n",
      "answer tensor([[8.],\n",
      "        [6.]])\n",
      "hidden tensor([[ 0.0091],\n",
      "        [-0.0011],\n",
      "        [-0.0035],\n",
      "        [-0.0031],\n",
      "        [ 0.0089],\n",
      "        [ 0.0058],\n",
      "        [-0.0028],\n",
      "        [ 0.0031]])\n"
     ]
    }
   ],
   "source": [
    "optimizer = optim.SGD(seq_model.parameters(), lr=1e-3)\n",
    "training_loop(\n",
    "    n_epochs = 5000, \n",
    "    optimizer = optimizer, \n",
    "    model = seq_model, \n",
    "    loss_fn = nn.MSELoss(), \n",
    "    t_u_train = t_un_train, \n",
    "    t_u_val = t_un_val, \n",
    "    t_c_train = t_c_train, \n",
    "    t_c_val = t_c_val\n",
    ")\n",
    "print('output', seq_model(t_un_val))\n",
    "print('answer', t_c_val)\n",
    "print('hidden', seq_model.hidden_linear.weight.grad)"
   ]
  },
  {
   "cell_type": "markdown",
   "id": "981332ec",
   "metadata": {},
   "source": [
    "# Visualizing"
   ]
  },
  {
   "cell_type": "markdown",
   "id": "f13e4689",
   "metadata": {},
   "source": [
    "plt.plot(X,Y) -> X array, Y array의 결과값  \n",
    "torch.arange(20.,90.).unsqueeze() => 연속적인 입력값을 위해 range listup"
   ]
  },
  {
   "cell_type": "code",
   "execution_count": 103,
   "id": "af45f885",
   "metadata": {},
   "outputs": [
    {
     "data": {
      "text/plain": [
       "[<matplotlib.lines.Line2D at 0x166353790>]"
      ]
     },
     "execution_count": 103,
     "metadata": {},
     "output_type": "execute_result"
    },
    {
     "data": {
      "image/png": "[encoded data removed]",
      "text/plain": [
       "<Figure size 640x480 with 1 Axes>"
      ]
     },
     "metadata": {},
     "output_type": "display_data"
    }
   ],
   "source": [
    "import matplotlib.pyplot as plt\n",
    "\n",
    "t_range = torch.arange(20.,90.).unsqueeze(1)\n",
    "\n",
    "plt.xlabel('Temparature: C')\n",
    "plt.ylabel('Temparature: F')\n",
    "plt.plot(t_u.numpy(), t_c.numpy(), 'o')\n",
    "\n",
    "# 임의 입력값은 model을 거쳐서 값 처리가 되어야함.\n",
    "plt.plot(t_range.numpy(), seq_model(t_range * 0.1).detach().numpy())"
   ]
  },
  {
   "cell_type": "markdown",
   "id": "873a7020",
   "metadata": {},
   "source": [
    "# 키워드 정리"
   ]
  },
  {
   "cell_type": "markdown",
   "id": "86874aa1",
   "metadata": {},
   "source": [
    "- nn.METHOD()\n",
    "- plt only with numpy"
   ]
  },
  {
   "cell_type": "code",
   "execution_count": null,
   "id": "c2aa8ba8",
   "metadata": {},
   "outputs": [],
   "source": []
  }
 ],
 "metadata": {
  "kernelspec": {
   "display_name": "Python 3 (ipykernel)",
   "language": "python",
   "name": "python3"
  },
  "language_info": {
   "codemirror_mode": {
    "name": "ipython",
    "version": 3
   },
   "file_extension": ".py",
   "mimetype": "text/x-python",
   "name": "python",
   "nbconvert_exporter": "python",
   "pygments_lexer": "ipython3",
   "version": "3.10.9"
  }
 },
 "nbformat": 4,
 "nbformat_minor": 5
}
