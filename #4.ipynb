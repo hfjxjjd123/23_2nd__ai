{
 "cells": [
  {
   "cell_type": "markdown",
   "id": "bd30652d",
   "metadata": {},
   "source": [
    "# CNN"
   ]
  },
  {
   "cell_type": "markdown",
   "id": "9e71ab9b",
   "metadata": {},
   "source": [
    "### Memorizing the training vs Generalize properties\n",
    "### Fully Connect\n",
    "-> Memorize the training set(원형을 유지)  \n",
    "-> not generalized by position(pixel간 정보로 generalize 하는 것이 어려움)\n",
    "### CNN\n",
    "-> To make generalized == translation invariants"
   ]
  },
  {
   "cell_type": "markdown",
   "id": "99047fe2",
   "metadata": {},
   "source": [
    "# Convolution by Filter\n",
    ": to translation invariants\n",
    "### 동작: Image*Filter"
   ]
  },
  {
   "cell_type": "markdown",
   "id": "9f3cb16d",
   "metadata": {},
   "source": [
    "필터의 종류에 따라서 이후 결과값이 달라진다.\n",
    "- edge(v/h) filter"
   ]
  },
  {
   "cell_type": "markdown",
   "id": "3b014dd5",
   "metadata": {},
   "source": [
    "## Localty\n",
    ": filter-size localty\n",
    "## Translation Invariance\n",
    ": same filter on whole image  \n",
    "=> 모든 부분들이 공유하는 파라미터 -> pixel dependence를 낮추고 local dependency를 높였다고 볼 수 있다."
   ]
  },
  {
   "cell_type": "markdown",
   "id": "7f2aa41a",
   "metadata": {},
   "source": [
    "# CNN 효과\n",
    "## Sparse Interation\n",
    "Fully Connect = Dense  \n",
    "-> param on each (pixel) by (pixel)  \n",
    "Convolution layer = Sparse  \n",
    "-> only (few pixel) by (few pixel)\n",
    "## Parameter Sharing\n",
    "Fully Connect  \n",
    "-> for each (pixel) by (pixel)  \n",
    "Convolution layer  \n",
    "-> only 1 filter using whole (few pixel) by (few pixel)\n"
   ]
  },
  {
   "cell_type": "markdown",
   "id": "130821a1",
   "metadata": {},
   "source": [
    "# pytorch Convolution\n",
    "### Conv2d\n",
    "nn.Conv2d(IN_CHANNELS, OUT_CHANNELS, KERNEL_SIZE, STRIDE)"
   ]
  },
  {
   "cell_type": "code",
   "execution_count": 5,
   "id": "eaf3230d",
   "metadata": {},
   "outputs": [
    {
     "data": {
      "text/plain": [
       "Conv2d(3, 16, kernel_size=(3, 3), stride=(1, 1))"
      ]
     },
     "execution_count": 5,
     "metadata": {},
     "output_type": "execute_result"
    }
   ],
   "source": [
    "import torch\n",
    "import torch.nn as nn\n",
    "\n",
    "conv = nn.Conv2d(3,16, kernel_size = 3)\n",
    "conv"
   ]
  },
  {
   "cell_type": "markdown",
   "id": "714a60b4",
   "metadata": {},
   "source": [
    "out_node X in_node X filters 만큼의 weight 수"
   ]
  },
  {
   "cell_type": "code",
   "execution_count": 6,
   "id": "0e2360dc",
   "metadata": {
    "scrolled": true
   },
   "outputs": [
    {
     "data": {
      "text/plain": [
       "torch.Size([16, 3, 3, 3])"
      ]
     },
     "execution_count": 6,
     "metadata": {},
     "output_type": "execute_result"
    }
   ],
   "source": [
    "conv.weight.shape"
   ]
  },
  {
   "cell_type": "markdown",
   "id": "557771b1",
   "metadata": {},
   "source": [
    "out_node(X1filter)수 만큼의 bias 수"
   ]
  },
  {
   "cell_type": "code",
   "execution_count": 7,
   "id": "a81ffa7a",
   "metadata": {},
   "outputs": [
    {
     "data": {
      "text/plain": [
       "torch.Size([16])"
      ]
     },
     "execution_count": 7,
     "metadata": {},
     "output_type": "execute_result"
    }
   ],
   "source": [
    "conv.bias.shape"
   ]
  },
  {
   "cell_type": "markdown",
   "id": "dcf7040e",
   "metadata": {},
   "source": [
    "### 구현"
   ]
  },
  {
   "cell_type": "markdown",
   "id": "513c3e04",
   "metadata": {},
   "source": [
    "사전준비"
   ]
  },
  {
   "cell_type": "code",
   "execution_count": 8,
   "id": "0732fdeb",
   "metadata": {},
   "outputs": [],
   "source": [
    "from torchvision import datasets\n",
    "from torchvision.transforms import transforms\n",
    "import matplotlib.pyplot as plt\n",
    "\n",
    "data_path = '../data-unversioned/p1ch7/'\n",
    "\n",
    "transformed_cifar10 = datasets.CIFAR10(\n",
    "    data_path, train = True, download = False, transform = transforms.ToTensor()\n",
    ")\n",
    "transformed_cifar10_val = datasets.CIFAR10(\n",
    "    data_path, train = False, download =False, transform = transforms.ToTensor()\n",
    ")\n",
    "\n",
    "label_map = {0:0, 2:1}\n",
    "class_name = ['airplane', 'bird']\n",
    "\n",
    "cifar2 = [(img, label_map[label])\n",
    "              for img, label in transformed_cifar10\n",
    "              if label in [0,2]]\n",
    "cifar2_val = [(img, label_map[label])\n",
    "           for img, label in transformed_cifar10_val\n",
    "           if label in [0,2]]"
   ]
  },
  {
   "cell_type": "markdown",
   "id": "6409197a",
   "metadata": {},
   "source": [
    "img ~ (c, w, h) -(unsqueeze)-> (1, c, w, h)  \n",
    "채널과 w,h의 변경은 이미지로 보여줄 때만 사용한다는거..."
   ]
  },
  {
   "cell_type": "code",
   "execution_count": 9,
   "id": "0cbb9b25",
   "metadata": {},
   "outputs": [
    {
     "data": {
      "text/plain": [
       "(torch.Size([1, 3, 32, 32]), torch.Size([1, 16, 30, 30]))"
      ]
     },
     "execution_count": 9,
     "metadata": {},
     "output_type": "execute_result"
    }
   ],
   "source": [
    "img, _ = cifar2[0]\n",
    "output = conv(img.unsqueeze(0))\n",
    "img.unsqueeze(0).shape, output.shape"
   ]
  },
  {
   "cell_type": "markdown",
   "id": "6b205a7d",
   "metadata": {},
   "source": [
    "visualize"
   ]
  },
  {
   "cell_type": "code",
   "execution_count": 10,
   "id": "6ababf5a",
   "metadata": {
    "scrolled": false
   },
   "outputs": [
    {
     "data": {
      "image/png": "[encoded data removed]",
      "text/plain": [
       "<Figure size 1000x480 with 2 Axes>"
      ]
     },
     "metadata": {},
     "output_type": "display_data"
    }
   ],
   "source": [
    "plt.figure(figsize=(10,4.8))\n",
    "ax1 = plt.subplot(1,2,1)\n",
    "plt.title('output')\n",
    "plt.imshow(output[0,15].detach(), cmap='gray') # w,h 만 보이는 중\n",
    "plt.subplot(1,2,2, sharex=ax1, sharey = ax1)\n",
    "plt.imshow(img.mean(0), cmap = 'gray')\n",
    "plt.title('input')\n",
    "plt.show()"
   ]
  },
  {
   "cell_type": "markdown",
   "id": "bb9a14f1",
   "metadata": {},
   "source": [
    "after kernel -> 32x32 => 32-k+1 x 32-k+1"
   ]
  },
  {
   "cell_type": "markdown",
   "id": "60c82988",
   "metadata": {},
   "source": [
    "# Padding\n",
    ": Output Size를 결정하는 용도로 사용"
   ]
  },
  {
   "cell_type": "markdown",
   "id": "fdb60a27",
   "metadata": {},
   "source": [
    "### - Zero Padding: to preserve the image size"
   ]
  },
  {
   "cell_type": "code",
   "execution_count": 11,
   "id": "9cc63d31",
   "metadata": {},
   "outputs": [],
   "source": [
    "conv = nn.Conv2d(3,1,kernel_size=3, padding = 1)"
   ]
  },
  {
   "cell_type": "markdown",
   "id": "218d6a84",
   "metadata": {},
   "source": [
    "구현"
   ]
  },
  {
   "cell_type": "code",
   "execution_count": 12,
   "id": "f750f8b6",
   "metadata": {
    "scrolled": true
   },
   "outputs": [
    {
     "data": {
      "text/plain": [
       "<matplotlib.image.AxesImage at 0x137366710>"
      ]
     },
     "execution_count": 12,
     "metadata": {},
     "output_type": "execute_result"
    },
    {
     "data": {
      "image/png": "[encoded data removed]",
      "text/plain": [
       "<Figure size 640x480 with 1 Axes>"
      ]
     },
     "metadata": {},
     "output_type": "display_data"
    }
   ],
   "source": [
    "with torch.no_grad():\n",
    "    conv.weight[:] = torch.tensor([\n",
    "            [1.0,0.0,-1.0],\n",
    "            [1.0,0.0,-1.0],\n",
    "            [1.0,0.0,-1.0]\n",
    "    ])\n",
    "    conv.bias.zero_()\n",
    "\n",
    "out = conv(img.unsqueeze(0))\n",
    "\n",
    "plt.imshow(out[0,0].detach(), cmap='gray')"
   ]
  },
  {
   "cell_type": "markdown",
   "id": "a16ed4d4",
   "metadata": {},
   "source": [
    "# Pooling = Downsampling\n",
    ": input 사이즈를 효과적으로 줄이고 싶을때(1/2)  \n",
    "2x2->1x1을 위한 kerneling\n",
    "- Max Pooling\n",
    "- Average Pooling\n",
    "  \n",
    "kernel_size = 2, stride = 2"
   ]
  },
  {
   "cell_type": "markdown",
   "id": "5bae682b",
   "metadata": {},
   "source": [
    "## Max Pooling\n",
    "2x2 to take maximum value  \n",
    "nn.MaxPool2d(N)"
   ]
  },
  {
   "cell_type": "code",
   "execution_count": 13,
   "id": "51fd20bc",
   "metadata": {},
   "outputs": [
    {
     "data": {
      "text/plain": [
       "(torch.Size([1, 3, 32, 32]), torch.Size([1, 3, 16, 16]))"
      ]
     },
     "execution_count": 13,
     "metadata": {},
     "output_type": "execute_result"
    }
   ],
   "source": [
    "pool = nn.MaxPool2d(2)\n",
    "output = pool(img.unsqueeze(0))\n",
    "\n",
    "img.unsqueeze(0).shape, output.shape"
   ]
  },
  {
   "cell_type": "markdown",
   "id": "c119d936",
   "metadata": {},
   "source": [
    "## Average Pooling\n",
    "2x2 to take mean value"
   ]
  },
  {
   "cell_type": "markdown",
   "id": "13e1df45",
   "metadata": {},
   "source": [
    "# Receptive Field\n",
    ": 어떤 부분의 input data가 지금의 값에 영향을 미첬는가에 관하여...  \n",
    "Maxpooling? -> 바로 그 index의 2배에 해당하는 부분이 point  \n",
    "--> 나머지 탈락한 부분은 영향을 미치지 못한 부분들임  \n",
    "  \n",
    "Conv layer? 어떤 padding과 input layer에 의해 값이 들어갔는지 파악"
   ]
  },
  {
   "cell_type": "markdown",
   "id": "89189ce8",
   "metadata": {},
   "source": [
    "### 구현"
   ]
  },
  {
   "cell_type": "code",
   "execution_count": 14,
   "id": "be3ec865",
   "metadata": {
    "scrolled": true
   },
   "outputs": [
    {
     "ename": "RuntimeError",
     "evalue": "mat1 and mat2 shapes cannot be multiplied (64x8 and 512x32)",
     "output_type": "error",
     "traceback": [
      "\u001b[0;31m---------------------------------------------------------------------------\u001b[0m",
      "\u001b[0;31mRuntimeError\u001b[0m                              Traceback (most recent call last)",
      "Cell \u001b[0;32mIn[14], line 14\u001b[0m\n\u001b[1;32m      1\u001b[0m model \u001b[38;5;241m=\u001b[39m nn\u001b[38;5;241m.\u001b[39mSequential(\n\u001b[1;32m      2\u001b[0m     nn\u001b[38;5;241m.\u001b[39mConv2d(\u001b[38;5;241m3\u001b[39m,\u001b[38;5;241m16\u001b[39m,padding\u001b[38;5;241m=\u001b[39m\u001b[38;5;241m1\u001b[39m,kernel_size \u001b[38;5;241m=\u001b[39m \u001b[38;5;241m3\u001b[39m),\n\u001b[1;32m      3\u001b[0m     \u001b[38;5;66;03m# Conv다음에도 activation이 있다는 사실\u001b[39;00m\n\u001b[0;32m   (...)\u001b[0m\n\u001b[1;32m     11\u001b[0m     nn\u001b[38;5;241m.\u001b[39mLinear(\u001b[38;5;241m32\u001b[39m,\u001b[38;5;241m2\u001b[39m)\n\u001b[1;32m     12\u001b[0m )\n\u001b[0;32m---> 14\u001b[0m \u001b[43mmodel\u001b[49m\u001b[43m(\u001b[49m\u001b[43mimg\u001b[49m\u001b[38;5;241;43m.\u001b[39;49m\u001b[43munsqueeze\u001b[49m\u001b[43m(\u001b[49m\u001b[38;5;241;43m0\u001b[39;49m\u001b[43m)\u001b[49m\u001b[43m)\u001b[49m\n",
      "File \u001b[0;32m~/anaconda3/envs/pytorch/lib/python3.10/site-packages/torch/nn/modules/module.py:1518\u001b[0m, in \u001b[0;36mModule._wrapped_call_impl\u001b[0;34m(self, *args, **kwargs)\u001b[0m\n\u001b[1;32m   1516\u001b[0m     \u001b[38;5;28;01mreturn\u001b[39;00m \u001b[38;5;28mself\u001b[39m\u001b[38;5;241m.\u001b[39m_compiled_call_impl(\u001b[38;5;241m*\u001b[39margs, \u001b[38;5;241m*\u001b[39m\u001b[38;5;241m*\u001b[39mkwargs)  \u001b[38;5;66;03m# type: ignore[misc]\u001b[39;00m\n\u001b[1;32m   1517\u001b[0m \u001b[38;5;28;01melse\u001b[39;00m:\n\u001b[0;32m-> 1518\u001b[0m     \u001b[38;5;28;01mreturn\u001b[39;00m \u001b[38;5;28;43mself\u001b[39;49m\u001b[38;5;241;43m.\u001b[39;49m\u001b[43m_call_impl\u001b[49m\u001b[43m(\u001b[49m\u001b[38;5;241;43m*\u001b[39;49m\u001b[43margs\u001b[49m\u001b[43m,\u001b[49m\u001b[43m \u001b[49m\u001b[38;5;241;43m*\u001b[39;49m\u001b[38;5;241;43m*\u001b[39;49m\u001b[43mkwargs\u001b[49m\u001b[43m)\u001b[49m\n",
      "File \u001b[0;32m~/anaconda3/envs/pytorch/lib/python3.10/site-packages/torch/nn/modules/module.py:1527\u001b[0m, in \u001b[0;36mModule._call_impl\u001b[0;34m(self, *args, **kwargs)\u001b[0m\n\u001b[1;32m   1522\u001b[0m \u001b[38;5;66;03m# If we don't have any hooks, we want to skip the rest of the logic in\u001b[39;00m\n\u001b[1;32m   1523\u001b[0m \u001b[38;5;66;03m# this function, and just call forward.\u001b[39;00m\n\u001b[1;32m   1524\u001b[0m \u001b[38;5;28;01mif\u001b[39;00m \u001b[38;5;129;01mnot\u001b[39;00m (\u001b[38;5;28mself\u001b[39m\u001b[38;5;241m.\u001b[39m_backward_hooks \u001b[38;5;129;01mor\u001b[39;00m \u001b[38;5;28mself\u001b[39m\u001b[38;5;241m.\u001b[39m_backward_pre_hooks \u001b[38;5;129;01mor\u001b[39;00m \u001b[38;5;28mself\u001b[39m\u001b[38;5;241m.\u001b[39m_forward_hooks \u001b[38;5;129;01mor\u001b[39;00m \u001b[38;5;28mself\u001b[39m\u001b[38;5;241m.\u001b[39m_forward_pre_hooks\n\u001b[1;32m   1525\u001b[0m         \u001b[38;5;129;01mor\u001b[39;00m _global_backward_pre_hooks \u001b[38;5;129;01mor\u001b[39;00m _global_backward_hooks\n\u001b[1;32m   1526\u001b[0m         \u001b[38;5;129;01mor\u001b[39;00m _global_forward_hooks \u001b[38;5;129;01mor\u001b[39;00m _global_forward_pre_hooks):\n\u001b[0;32m-> 1527\u001b[0m     \u001b[38;5;28;01mreturn\u001b[39;00m \u001b[43mforward_call\u001b[49m\u001b[43m(\u001b[49m\u001b[38;5;241;43m*\u001b[39;49m\u001b[43margs\u001b[49m\u001b[43m,\u001b[49m\u001b[43m \u001b[49m\u001b[38;5;241;43m*\u001b[39;49m\u001b[38;5;241;43m*\u001b[39;49m\u001b[43mkwargs\u001b[49m\u001b[43m)\u001b[49m\n\u001b[1;32m   1529\u001b[0m \u001b[38;5;28;01mtry\u001b[39;00m:\n\u001b[1;32m   1530\u001b[0m     result \u001b[38;5;241m=\u001b[39m \u001b[38;5;28;01mNone\u001b[39;00m\n",
      "File \u001b[0;32m~/anaconda3/envs/pytorch/lib/python3.10/site-packages/torch/nn/modules/container.py:215\u001b[0m, in \u001b[0;36mSequential.forward\u001b[0;34m(self, input)\u001b[0m\n\u001b[1;32m    213\u001b[0m \u001b[38;5;28;01mdef\u001b[39;00m \u001b[38;5;21mforward\u001b[39m(\u001b[38;5;28mself\u001b[39m, \u001b[38;5;28minput\u001b[39m):\n\u001b[1;32m    214\u001b[0m     \u001b[38;5;28;01mfor\u001b[39;00m module \u001b[38;5;129;01min\u001b[39;00m \u001b[38;5;28mself\u001b[39m:\n\u001b[0;32m--> 215\u001b[0m         \u001b[38;5;28minput\u001b[39m \u001b[38;5;241m=\u001b[39m \u001b[43mmodule\u001b[49m\u001b[43m(\u001b[49m\u001b[38;5;28;43minput\u001b[39;49m\u001b[43m)\u001b[49m\n\u001b[1;32m    216\u001b[0m     \u001b[38;5;28;01mreturn\u001b[39;00m \u001b[38;5;28minput\u001b[39m\n",
      "File \u001b[0;32m~/anaconda3/envs/pytorch/lib/python3.10/site-packages/torch/nn/modules/module.py:1518\u001b[0m, in \u001b[0;36mModule._wrapped_call_impl\u001b[0;34m(self, *args, **kwargs)\u001b[0m\n\u001b[1;32m   1516\u001b[0m     \u001b[38;5;28;01mreturn\u001b[39;00m \u001b[38;5;28mself\u001b[39m\u001b[38;5;241m.\u001b[39m_compiled_call_impl(\u001b[38;5;241m*\u001b[39margs, \u001b[38;5;241m*\u001b[39m\u001b[38;5;241m*\u001b[39mkwargs)  \u001b[38;5;66;03m# type: ignore[misc]\u001b[39;00m\n\u001b[1;32m   1517\u001b[0m \u001b[38;5;28;01melse\u001b[39;00m:\n\u001b[0;32m-> 1518\u001b[0m     \u001b[38;5;28;01mreturn\u001b[39;00m \u001b[38;5;28;43mself\u001b[39;49m\u001b[38;5;241;43m.\u001b[39;49m\u001b[43m_call_impl\u001b[49m\u001b[43m(\u001b[49m\u001b[38;5;241;43m*\u001b[39;49m\u001b[43margs\u001b[49m\u001b[43m,\u001b[49m\u001b[43m \u001b[49m\u001b[38;5;241;43m*\u001b[39;49m\u001b[38;5;241;43m*\u001b[39;49m\u001b[43mkwargs\u001b[49m\u001b[43m)\u001b[49m\n",
      "File \u001b[0;32m~/anaconda3/envs/pytorch/lib/python3.10/site-packages/torch/nn/modules/module.py:1527\u001b[0m, in \u001b[0;36mModule._call_impl\u001b[0;34m(self, *args, **kwargs)\u001b[0m\n\u001b[1;32m   1522\u001b[0m \u001b[38;5;66;03m# If we don't have any hooks, we want to skip the rest of the logic in\u001b[39;00m\n\u001b[1;32m   1523\u001b[0m \u001b[38;5;66;03m# this function, and just call forward.\u001b[39;00m\n\u001b[1;32m   1524\u001b[0m \u001b[38;5;28;01mif\u001b[39;00m \u001b[38;5;129;01mnot\u001b[39;00m (\u001b[38;5;28mself\u001b[39m\u001b[38;5;241m.\u001b[39m_backward_hooks \u001b[38;5;129;01mor\u001b[39;00m \u001b[38;5;28mself\u001b[39m\u001b[38;5;241m.\u001b[39m_backward_pre_hooks \u001b[38;5;129;01mor\u001b[39;00m \u001b[38;5;28mself\u001b[39m\u001b[38;5;241m.\u001b[39m_forward_hooks \u001b[38;5;129;01mor\u001b[39;00m \u001b[38;5;28mself\u001b[39m\u001b[38;5;241m.\u001b[39m_forward_pre_hooks\n\u001b[1;32m   1525\u001b[0m         \u001b[38;5;129;01mor\u001b[39;00m _global_backward_pre_hooks \u001b[38;5;129;01mor\u001b[39;00m _global_backward_hooks\n\u001b[1;32m   1526\u001b[0m         \u001b[38;5;129;01mor\u001b[39;00m _global_forward_hooks \u001b[38;5;129;01mor\u001b[39;00m _global_forward_pre_hooks):\n\u001b[0;32m-> 1527\u001b[0m     \u001b[38;5;28;01mreturn\u001b[39;00m \u001b[43mforward_call\u001b[49m\u001b[43m(\u001b[49m\u001b[38;5;241;43m*\u001b[39;49m\u001b[43margs\u001b[49m\u001b[43m,\u001b[49m\u001b[43m \u001b[49m\u001b[38;5;241;43m*\u001b[39;49m\u001b[38;5;241;43m*\u001b[39;49m\u001b[43mkwargs\u001b[49m\u001b[43m)\u001b[49m\n\u001b[1;32m   1529\u001b[0m \u001b[38;5;28;01mtry\u001b[39;00m:\n\u001b[1;32m   1530\u001b[0m     result \u001b[38;5;241m=\u001b[39m \u001b[38;5;28;01mNone\u001b[39;00m\n",
      "File \u001b[0;32m~/anaconda3/envs/pytorch/lib/python3.10/site-packages/torch/nn/modules/linear.py:114\u001b[0m, in \u001b[0;36mLinear.forward\u001b[0;34m(self, input)\u001b[0m\n\u001b[1;32m    113\u001b[0m \u001b[38;5;28;01mdef\u001b[39;00m \u001b[38;5;21mforward\u001b[39m(\u001b[38;5;28mself\u001b[39m, \u001b[38;5;28minput\u001b[39m: Tensor) \u001b[38;5;241m-\u001b[39m\u001b[38;5;241m>\u001b[39m Tensor:\n\u001b[0;32m--> 114\u001b[0m     \u001b[38;5;28;01mreturn\u001b[39;00m \u001b[43mF\u001b[49m\u001b[38;5;241;43m.\u001b[39;49m\u001b[43mlinear\u001b[49m\u001b[43m(\u001b[49m\u001b[38;5;28;43minput\u001b[39;49m\u001b[43m,\u001b[49m\u001b[43m \u001b[49m\u001b[38;5;28;43mself\u001b[39;49m\u001b[38;5;241;43m.\u001b[39;49m\u001b[43mweight\u001b[49m\u001b[43m,\u001b[49m\u001b[43m \u001b[49m\u001b[38;5;28;43mself\u001b[39;49m\u001b[38;5;241;43m.\u001b[39;49m\u001b[43mbias\u001b[49m\u001b[43m)\u001b[49m\n",
      "\u001b[0;31mRuntimeError\u001b[0m: mat1 and mat2 shapes cannot be multiplied (64x8 and 512x32)"
     ]
    }
   ],
   "source": [
    "model = nn.Sequential(\n",
    "    nn.Conv2d(3,16,padding=1,kernel_size = 3),\n",
    "    # Conv다음에도 activation이 있다는 사실\n",
    "    nn.Tanh(),\n",
    "    nn.MaxPool2d(2),\n",
    "    nn.Conv2d(16, 8, kernel_size = 3, padding = 1),\n",
    "    nn.Tanh(),\n",
    "    nn.MaxPool2d(2),\n",
    "    nn.Linear(8*8*8, 32),\n",
    "    nn.Tanh(),\n",
    "    nn.Linear(32,2)\n",
    ")\n",
    "\n",
    "model(img.unsqueeze(0))"
   ]
  },
  {
   "cell_type": "markdown",
   "id": "2ef1a965",
   "metadata": {},
   "source": [
    "### 문제: 입력 shape가 일치하지 않음\n",
    ": nn.Sequential 내부에서 배치를 했지만 해결이 안되므로, 이 규칙으로는 nn.Sequential을 사용할 수 없다.  \n",
    "  \n",
    "문제발생이유: CONV 연산은 채널에 독립적으로 실행된다.  \n",
    "FC 연산은 채널 정보를 다 합쳐서 실행된다.  \n",
    "이 과정에서 CONV에서 FC로 연산이 전환될 때 데이터 shape이 맞지 않게된다.  \n",
    "-> custom하게 포워딩 맞추기\n",
    "### 해결: nn.Module을 활용, subclass 만들기\n",
    "## class Net(nn.Module):"
   ]
  },
  {
   "cell_type": "code",
   "execution_count": 15,
   "id": "6b4a6df0",
   "metadata": {},
   "outputs": [],
   "source": [
    "class Net(nn.Module):\n",
    "    def __init__(self):\n",
    "        super().__init__()\n",
    "        self.conv1 = nn.Conv2d(3,16,kernel_size = 3, padding = 1)\n",
    "        self.act1 = nn.Tanh()\n",
    "        self.pool1 = nn.MaxPool2d(2)\n",
    "        self.conv2 = nn.Conv2d(16,8,kernel_size = 3, padding = 1)\n",
    "        self.act2 = nn.Tanh()\n",
    "        self.pool2 = nn.MaxPool2d(2)\n",
    "        self.fc1 = nn.Linear(8*8*8, 32)\n",
    "        self.act3 = nn.Tanh()\n",
    "        self.fc2 = nn.Linear(32, 2)\n",
    "    \n",
    "    def forward(self, x):\n",
    "        out = self.pool1(self.act1(self.conv1(x)))\n",
    "        out = self.pool2(self.act2(self.conv2(out)))\n",
    "        out = out.view(-1, 8*8*8)\n",
    "        out = self.act3(self.fc1(out))\n",
    "        out = self.fc2(out)\n",
    "        return out\n",
    "    \n",
    "\n",
    "        "
   ]
  },
  {
   "cell_type": "markdown",
   "id": "4117d139",
   "metadata": {},
   "source": [
    "# CONV ~ Compress Information\n",
    "pixels -> classes by..\n",
    "- pooling\n",
    "- reducing channels\n",
    "- output smaller than input"
   ]
  },
  {
   "cell_type": "markdown",
   "id": "0a61bab6",
   "metadata": {},
   "source": [
    "# Module & Functional API\n",
    "Module: State 저장 ~ Layer 의미   \n",
    "활용: Simple -> nn.Sequential()  \n",
    "  \n",
    "Functional API: State 저장 X  \n",
    "활용: Custom Net() -> No param needs  "
   ]
  },
  {
   "cell_type": "code",
   "execution_count": 16,
   "id": "fb5a015a",
   "metadata": {},
   "outputs": [],
   "source": [
    "import torch.nn.functional as F\n",
    "\n",
    "class Net(nn.Module):\n",
    "    def __init__(self):\n",
    "        super().__init__()\n",
    "        self.conv1 = nn.Conv2d(3,16,kernel_size = 3, padding = 1)\n",
    "        self.conv2 = nn.Conv2d(16,8,kernel_size = 3, padding = 1)\n",
    "        self.fc1 = nn.Linear(8*8*8, 32)\n",
    "        self.fc2 = nn.Linear(32, 2)\n",
    "    \n",
    "    def forward(self, x):\n",
    "        out = F.max_pool2d(torch.tanh(self.conv1(x)),2)\n",
    "        out = F.max_pool2d(torch.tanh(self.conv2(out)),2)\n",
    "        out = out.view(-1, 8*8*8)\n",
    "        out = torch.tanh(self.fc1(out))\n",
    "        out = torch.tanh(self.fc2(out))\n",
    "        return out"
   ]
  },
  {
   "cell_type": "markdown",
   "id": "92c79bea",
   "metadata": {},
   "source": [
    "# Training"
   ]
  },
  {
   "cell_type": "code",
   "execution_count": 17,
   "id": "ddc93e23",
   "metadata": {},
   "outputs": [],
   "source": [
    "import datetime\n",
    "\n",
    "#구성에는 아무 차이가 없다. 들어가는 model이 달라졌을 뿐\n",
    "def training_loop(n_epochs, optimizer, model, loss_fn, train_loader):\n",
    "    for epoch in range(n_epochs):\n",
    "        loss_train = 0.0\n",
    "        for imgs, labels in train_loader:\n",
    "            outputs = model(imgs)\n",
    "            loss = loss_fn(outputs, labels)\n",
    "            optimizer.zero_grad()\n",
    "            loss.backward()\n",
    "            optimizer.step()\n",
    "            loss_train += loss.item() # to accumulate loss\n",
    "        if epoch == 0 or epoch % 10 ==0:\n",
    "            print('{} Epoch{}, Training loss {}'\n",
    "                  .format(datetime.datetime.now(), epoch, loss_train/len(train_loader)))"
   ]
  },
  {
   "cell_type": "code",
   "execution_count": 18,
   "id": "b95957d3",
   "metadata": {},
   "outputs": [
    {
     "name": "stdout",
     "output_type": "stream",
     "text": [
      "2023-12-14 22:45:56.006068 Epoch0, Training loss 0.680554688736132\n"
     ]
    },
    {
     "ename": "KeyboardInterrupt",
     "evalue": "",
     "output_type": "error",
     "traceback": [
      "\u001b[0;31m---------------------------------------------------------------------------\u001b[0m",
      "\u001b[0;31mKeyboardInterrupt\u001b[0m                         Traceback (most recent call last)",
      "Cell \u001b[0;32mIn[18], line 9\u001b[0m\n\u001b[1;32m      6\u001b[0m optimizer \u001b[38;5;241m=\u001b[39m optim\u001b[38;5;241m.\u001b[39mSGD(model\u001b[38;5;241m.\u001b[39mparameters(), lr\u001b[38;5;241m=\u001b[39m\u001b[38;5;241m1e-2\u001b[39m)\n\u001b[1;32m      7\u001b[0m loss_fn \u001b[38;5;241m=\u001b[39m nn\u001b[38;5;241m.\u001b[39mCrossEntropyLoss()\n\u001b[0;32m----> 9\u001b[0m \u001b[43mtraining_loop\u001b[49m\u001b[43m(\u001b[49m\n\u001b[1;32m     10\u001b[0m \u001b[43m    \u001b[49m\u001b[43mn_epochs\u001b[49m\u001b[43m \u001b[49m\u001b[38;5;241;43m=\u001b[39;49m\u001b[43m \u001b[49m\u001b[38;5;241;43m100\u001b[39;49m\u001b[43m,\u001b[49m\n\u001b[1;32m     11\u001b[0m \u001b[43m    \u001b[49m\u001b[43moptimizer\u001b[49m\u001b[43m \u001b[49m\u001b[38;5;241;43m=\u001b[39;49m\u001b[43m \u001b[49m\u001b[43moptimizer\u001b[49m\u001b[43m,\u001b[49m\n\u001b[1;32m     12\u001b[0m \u001b[43m    \u001b[49m\u001b[43mmodel\u001b[49m\u001b[43m \u001b[49m\u001b[38;5;241;43m=\u001b[39;49m\u001b[43m \u001b[49m\u001b[43mmodel\u001b[49m\u001b[43m,\u001b[49m\n\u001b[1;32m     13\u001b[0m \u001b[43m    \u001b[49m\u001b[43mloss_fn\u001b[49m\u001b[43m \u001b[49m\u001b[38;5;241;43m=\u001b[39;49m\u001b[43m \u001b[49m\u001b[43mloss_fn\u001b[49m\u001b[43m,\u001b[49m\n\u001b[1;32m     14\u001b[0m \u001b[43m    \u001b[49m\u001b[43mtrain_loader\u001b[49m\u001b[43m \u001b[49m\u001b[38;5;241;43m=\u001b[39;49m\u001b[43m \u001b[49m\u001b[43mtrain_loader\u001b[49m\n\u001b[1;32m     15\u001b[0m \u001b[43m)\u001b[49m\n",
      "Cell \u001b[0;32mIn[17], line 10\u001b[0m, in \u001b[0;36mtraining_loop\u001b[0;34m(n_epochs, optimizer, model, loss_fn, train_loader)\u001b[0m\n\u001b[1;32m      8\u001b[0m outputs \u001b[38;5;241m=\u001b[39m model(imgs)\n\u001b[1;32m      9\u001b[0m loss \u001b[38;5;241m=\u001b[39m loss_fn(outputs, labels)\n\u001b[0;32m---> 10\u001b[0m \u001b[43moptimizer\u001b[49m\u001b[38;5;241;43m.\u001b[39;49m\u001b[43mzero_grad\u001b[49m\u001b[43m(\u001b[49m\u001b[43m)\u001b[49m\n\u001b[1;32m     11\u001b[0m loss\u001b[38;5;241m.\u001b[39mbackward()\n\u001b[1;32m     12\u001b[0m optimizer\u001b[38;5;241m.\u001b[39mstep()\n",
      "File \u001b[0;32m~/anaconda3/envs/pytorch/lib/python3.10/site-packages/torch/_compile.py:24\u001b[0m, in \u001b[0;36m_disable_dynamo.<locals>.inner\u001b[0;34m(*args, **kwargs)\u001b[0m\n\u001b[1;32m     20\u001b[0m \u001b[38;5;129m@functools\u001b[39m\u001b[38;5;241m.\u001b[39mwraps(fn)\n\u001b[1;32m     21\u001b[0m \u001b[38;5;28;01mdef\u001b[39;00m \u001b[38;5;21minner\u001b[39m(\u001b[38;5;241m*\u001b[39margs, \u001b[38;5;241m*\u001b[39m\u001b[38;5;241m*\u001b[39mkwargs):\n\u001b[1;32m     22\u001b[0m     \u001b[38;5;28;01mimport\u001b[39;00m \u001b[38;5;21;01mtorch\u001b[39;00m\u001b[38;5;21;01m.\u001b[39;00m\u001b[38;5;21;01m_dynamo\u001b[39;00m\n\u001b[0;32m---> 24\u001b[0m     \u001b[38;5;28;01mreturn\u001b[39;00m \u001b[43mtorch\u001b[49m\u001b[38;5;241;43m.\u001b[39;49m\u001b[43m_dynamo\u001b[49m\u001b[38;5;241;43m.\u001b[39;49m\u001b[43mdisable\u001b[49m\u001b[43m(\u001b[49m\u001b[43mfn\u001b[49m\u001b[43m,\u001b[49m\u001b[43m \u001b[49m\u001b[43mrecursive\u001b[49m\u001b[43m)\u001b[49m(\u001b[38;5;241m*\u001b[39margs, \u001b[38;5;241m*\u001b[39m\u001b[38;5;241m*\u001b[39mkwargs)\n",
      "File \u001b[0;32m~/anaconda3/envs/pytorch/lib/python3.10/site-packages/torch/_dynamo/decorators.py:47\u001b[0m, in \u001b[0;36mdisable\u001b[0;34m(fn, recursive)\u001b[0m\n\u001b[1;32m     45\u001b[0m         fn \u001b[38;5;241m=\u001b[39m innermost_fn(fn)\n\u001b[1;32m     46\u001b[0m         \u001b[38;5;28;01massert\u001b[39;00m \u001b[38;5;28mcallable\u001b[39m(fn)\n\u001b[0;32m---> 47\u001b[0m         \u001b[38;5;28;01mreturn\u001b[39;00m \u001b[43mDisableContext\u001b[49m\u001b[43m(\u001b[49m\u001b[43m)\u001b[49m\u001b[43m(\u001b[49m\u001b[43mfn\u001b[49m\u001b[43m)\u001b[49m\n\u001b[1;32m     48\u001b[0m     \u001b[38;5;28;01mreturn\u001b[39;00m DisableContext()\n\u001b[1;32m     49\u001b[0m \u001b[38;5;28;01melse\u001b[39;00m:\n",
      "File \u001b[0;32m~/anaconda3/envs/pytorch/lib/python3.10/site-packages/torch/_dynamo/eval_frame.py:290\u001b[0m, in \u001b[0;36m_TorchDynamoContext.__call__\u001b[0;34m(self, fn)\u001b[0m\n\u001b[1;32m    287\u001b[0m \u001b[38;5;28;01massert\u001b[39;00m \u001b[38;5;28mcallable\u001b[39m(fn)\n\u001b[1;32m    289\u001b[0m \u001b[38;5;28;01mtry\u001b[39;00m:\n\u001b[0;32m--> 290\u001b[0m     filename \u001b[38;5;241m=\u001b[39m \u001b[43minspect\u001b[49m\u001b[38;5;241;43m.\u001b[39;49m\u001b[43mgetsourcefile\u001b[49m\u001b[43m(\u001b[49m\u001b[43mfn\u001b[49m\u001b[43m)\u001b[49m\n\u001b[1;32m    291\u001b[0m \u001b[38;5;28;01mexcept\u001b[39;00m \u001b[38;5;167;01mTypeError\u001b[39;00m:\n\u001b[1;32m    292\u001b[0m     filename \u001b[38;5;241m=\u001b[39m \u001b[38;5;28;01mNone\u001b[39;00m\n",
      "File \u001b[0;32m~/anaconda3/envs/pytorch/lib/python3.10/inspect.py:826\u001b[0m, in \u001b[0;36mgetsourcefile\u001b[0;34m(object)\u001b[0m\n\u001b[1;32m    823\u001b[0m \u001b[38;5;28;01melif\u001b[39;00m \u001b[38;5;28many\u001b[39m(filename\u001b[38;5;241m.\u001b[39mendswith(s) \u001b[38;5;28;01mfor\u001b[39;00m s \u001b[38;5;129;01min\u001b[39;00m\n\u001b[1;32m    824\u001b[0m              importlib\u001b[38;5;241m.\u001b[39mmachinery\u001b[38;5;241m.\u001b[39mEXTENSION_SUFFIXES):\n\u001b[1;32m    825\u001b[0m     \u001b[38;5;28;01mreturn\u001b[39;00m \u001b[38;5;28;01mNone\u001b[39;00m\n\u001b[0;32m--> 826\u001b[0m \u001b[38;5;28;01mif\u001b[39;00m \u001b[43mos\u001b[49m\u001b[38;5;241;43m.\u001b[39;49m\u001b[43mpath\u001b[49m\u001b[38;5;241;43m.\u001b[39;49m\u001b[43mexists\u001b[49m\u001b[43m(\u001b[49m\u001b[43mfilename\u001b[49m\u001b[43m)\u001b[49m:\n\u001b[1;32m    827\u001b[0m     \u001b[38;5;28;01mreturn\u001b[39;00m filename\n\u001b[1;32m    828\u001b[0m \u001b[38;5;66;03m# only return a non-existent filename if the module has a PEP 302 loader\u001b[39;00m\n",
      "File \u001b[0;32m~/anaconda3/envs/pytorch/lib/python3.10/genericpath.py:19\u001b[0m, in \u001b[0;36mexists\u001b[0;34m(path)\u001b[0m\n\u001b[1;32m     17\u001b[0m \u001b[38;5;250m\u001b[39m\u001b[38;5;124;03m\"\"\"Test whether a path exists.  Returns False for broken symbolic links\"\"\"\u001b[39;00m\n\u001b[1;32m     18\u001b[0m \u001b[38;5;28;01mtry\u001b[39;00m:\n\u001b[0;32m---> 19\u001b[0m     \u001b[43mos\u001b[49m\u001b[38;5;241;43m.\u001b[39;49m\u001b[43mstat\u001b[49m\u001b[43m(\u001b[49m\u001b[43mpath\u001b[49m\u001b[43m)\u001b[49m\n\u001b[1;32m     20\u001b[0m \u001b[38;5;28;01mexcept\u001b[39;00m (\u001b[38;5;167;01mOSError\u001b[39;00m, \u001b[38;5;167;01mValueError\u001b[39;00m):\n\u001b[1;32m     21\u001b[0m     \u001b[38;5;28;01mreturn\u001b[39;00m \u001b[38;5;28;01mFalse\u001b[39;00m\n",
      "\u001b[0;31mKeyboardInterrupt\u001b[0m: "
     ]
    }
   ],
   "source": [
    "import torch.optim as optim\n",
    "\n",
    "train_loader = torch.utils.data.DataLoader(cifar2, batch_size = 64, shuffle = True)\n",
    "\n",
    "model = Net() # Net(nn.Module) -> F.등등 활용\n",
    "optimizer = optim.SGD(model.parameters(), lr=1e-2)\n",
    "loss_fn = nn.CrossEntropyLoss()\n",
    "\n",
    "training_loop(\n",
    "    n_epochs = 100,\n",
    "    optimizer = optimizer,\n",
    "    model = model,\n",
    "    loss_fn = loss_fn,\n",
    "    train_loader = train_loader\n",
    ")"
   ]
  },
  {
   "cell_type": "markdown",
   "id": "ceccfadb",
   "metadata": {},
   "source": [
    "## Accuracy?"
   ]
  },
  {
   "cell_type": "code",
   "execution_count": 19,
   "id": "1b938e31",
   "metadata": {},
   "outputs": [
    {
     "name": "stdout",
     "output_type": "stream",
     "text": [
      "Accuracy train: 0.76\n",
      "Accuracy val: 0.77\n"
     ]
    }
   ],
   "source": [
    "train_loader = torch.utils.data.DataLoader(cifar2, batch_size=64, shuffle=False) \n",
    "val_loader = torch.utils.data.DataLoader(cifar2_val, batch_size=64, shuffle=False)\n",
    "def validate(model, train_loader, val_loader):\n",
    "    for name, loader in [(\"train\", train_loader), (\"val\", val_loader)]:\n",
    "        correct = 0 \n",
    "        total = 0\n",
    "        \n",
    "        with torch.no_grad( ):\n",
    "            for imgs, labels in loader:\n",
    "                outputs = model(imgs)\n",
    "                _, predicted = torch.max(outputs, dim=1)\n",
    "                total += labels.shape[0]\n",
    "                correct += int((predicted == labels).sum( ))\n",
    "        print(\"Accuracy {}: {:.2f}\".format(name , correct / total))\n",
    "\n",
    "                \n",
    "validate(model, train_loader, val_loader)"
   ]
  },
  {
   "cell_type": "markdown",
   "id": "57f135d4",
   "metadata": {},
   "source": [
    "정리\n",
    "- labels.shape[0] -> data 수\n",
    "- torch.no_grad() -> 학습시키고 싶지 않을때"
   ]
  },
  {
   "cell_type": "markdown",
   "id": "209443a5",
   "metadata": {},
   "source": [
    "## Saving Model"
   ]
  },
  {
   "cell_type": "markdown",
   "id": "db4b35e6",
   "metadata": {},
   "source": [
    "torch.save(MODEL, 위치)  \n",
    "torch.load(위치)"
   ]
  },
  {
   "cell_type": "code",
   "execution_count": 20,
   "id": "277ad767",
   "metadata": {},
   "outputs": [
    {
     "data": {
      "text/plain": [
       "<All keys matched successfully>"
      ]
     },
     "execution_count": 20,
     "metadata": {},
     "output_type": "execute_result"
    }
   ],
   "source": [
    "torch.save(model.state_dict(), data_path + 'birds_vs_airplanes.pt')\n",
    "loaded_model = Net()\n",
    "loaded_model.load_state_dict(torch.load(data_path + 'birds_vs_airplanes.pt'))"
   ]
  },
  {
   "cell_type": "markdown",
   "id": "68cc445f",
   "metadata": {},
   "source": [
    "# Model Design 하기"
   ]
  },
  {
   "cell_type": "markdown",
   "id": "f4c28d59",
   "metadata": {},
   "source": [
    "### Width 관리"
   ]
  },
  {
   "cell_type": "code",
   "execution_count": 24,
   "id": "066606db",
   "metadata": {},
   "outputs": [
    {
     "data": {
      "text/plain": [
       "38386"
      ]
     },
     "execution_count": 24,
     "metadata": {},
     "output_type": "execute_result"
    }
   ],
   "source": [
    "class NetWidth(nn.Module):\n",
    "    def __init__(self, n_chans1 = 32):\n",
    "        super().__init__()\n",
    "        self.n_chans1 = n_chans1\n",
    "        self.conv1 = nn.Conv2d(3, n_chans1, kernel_size = 3, padding = 1)\n",
    "        self.conv2 = nn.Conv2d(n_chans1, n_chans1//2, kernel_size = 3, padding = 1)\n",
    "        self.fc1 = nn.Linear(8*8*self.n_chans1//2, 32)\n",
    "        self.fc2 = nn.Linear(32, 2)\n",
    "    \n",
    "    def forward(x):\n",
    "        out = F.max_pool2d(torch.tanh(self.conv1(x)),2)\n",
    "        out = F.max_pool2d(torch.tanh(self.conv2(out)),2)\n",
    "        out = out.view(-1,8*8*self.n_chans1//2)\n",
    "        out = torch.tanh(self.fc1(out))\n",
    "        out = self.fc2(out)\n",
    "        return out\n",
    "    \n",
    "model = NetWidth()\n",
    "sum(p.numel() for p in model.parameters())"
   ]
  },
  {
   "cell_type": "markdown",
   "id": "0d7c098b",
   "metadata": {},
   "source": [
    "# Problem: Overfitting"
   ]
  },
  {
   "cell_type": "markdown",
   "id": "79a4cdc0",
   "metadata": {},
   "source": [
    "## Weight Decay"
   ]
  },
  {
   "cell_type": "code",
   "execution_count": 33,
   "id": "a7750d52",
   "metadata": {},
   "outputs": [],
   "source": [
    "def training_loop_l2reg(n_epochs, optimizer, model, loss_fn, train_loader):\n",
    "    for epoch in range(n_epochs):\n",
    "        loss_train = 0.0\n",
    "        for imgs, labels in train_loader:\n",
    "            outputs = model(imgs)\n",
    "            loss_fn(outputs, labels)\n",
    "            \n",
    "            l2_lambda = 0.001\n",
    "            l2_norm = sum((p.pow(2.0).sum() for p in model.parameters()))\n",
    "            loss = loss + l2_lambda*l2_norm\n",
    "            \n",
    "            optimizer.zero_grad()\n",
    "            loss.backward()\n",
    "            optimizer.step()\n",
    "            \n",
    "            loss_train += loss.item()\n"
   ]
  },
  {
   "cell_type": "markdown",
   "id": "5aab4313",
   "metadata": {},
   "source": [
    "weight decay ~ backward ~ OPTIMIZER에서 weight_decay =0 을 확인할 수 있다."
   ]
  },
  {
   "cell_type": "markdown",
   "id": "d4350f9f",
   "metadata": {},
   "source": [
    "# Dropout"
   ]
  },
  {
   "cell_type": "markdown",
   "id": "bb016793",
   "metadata": {},
   "source": [
    "dropout은 forward 텀이라 nn.Dropout에서 찾아서 forward에 박아넣기"
   ]
  },
  {
   "cell_type": "code",
   "execution_count": 34,
   "id": "6c5bbe3e",
   "metadata": {},
   "outputs": [],
   "source": [
    "class NetDropout(nn.Module): \n",
    "    def __init__(self, n_chans1=32):\n",
    "        super( ).__init__( ) \n",
    "        self.n_chans1 = n_chans1\n",
    "        self.conv1 = nn.Conv2d(3, n_chans1, kernel_size=3, padding=1) \n",
    "        ## percent 입력\n",
    "        self.conv1_dropout = nn.Dropout2d(p=0.4)\n",
    "        self.conv2 = nn.Conv2d(n_chans1, n_chans1 // 2, kernel_size=3, padding=1) \n",
    "        ##\n",
    "        self.conv2_dropout = nn.Dropout2d(p=0.4)\n",
    "        self.fc1 = nn.Linear(8 * 8 * n_chans1 // 2, 32) \n",
    "        self.fc2 = nn.Linear(32, 2)\n",
    "        \n",
    "    def forward(self, x):\n",
    "        out = F.max_pool2d(torch.tanh(self.conv1(x)), 2) \n",
    "        out = self.conv1_dropout(out)\n",
    "        out = F.max_pool2d(torch.tanh(self.conv2(out)), 2) \n",
    "        out = self.conv2_dropout(out)\n",
    "        out = out.view(-1, 8 * 8 * self.n_chans1 // 2) \n",
    "        out = torch.tanh(self.fc1(out))\n",
    "        out = self.fc2(out)\n",
    "        return out"
   ]
  },
  {
   "cell_type": "code",
   "execution_count": 36,
   "id": "910b8671",
   "metadata": {},
   "outputs": [
    {
     "name": "stdout",
     "output_type": "stream",
     "text": [
      "2023-12-14 23:13:35.439609 Epoch0, Training loss 0.6806427365655352\n",
      "2023-12-14 23:14:17.446055 Epoch10, Training loss 0.4157365095463528\n",
      "2023-12-14 23:14:59.748485 Epoch20, Training loss 0.37728523391826896\n",
      "2023-12-14 23:15:41.856038 Epoch30, Training loss 0.3535753776123569\n",
      "2023-12-14 23:16:23.869370 Epoch40, Training loss 0.3469243712106328\n",
      "2023-12-14 23:17:05.920265 Epoch50, Training loss 0.3356004581329929\n",
      "2023-12-14 23:17:48.108711 Epoch60, Training loss 0.32204100774351957\n",
      "2023-12-14 23:18:30.459455 Epoch70, Training loss 0.3161599975862321\n",
      "2023-12-14 23:19:12.738171 Epoch80, Training loss 0.29976597229006946\n",
      "2023-12-14 23:19:55.106383 Epoch90, Training loss 0.2976817524736854\n",
      "Accuracy train: 0.88\n",
      "Accuracy val: 0.87\n"
     ]
    },
    {
     "ename": "NameError",
     "evalue": "name 'all_acc_dict' is not defined",
     "output_type": "error",
     "traceback": [
      "\u001b[0;31m---------------------------------------------------------------------------\u001b[0m",
      "\u001b[0;31mNameError\u001b[0m                                 Traceback (most recent call last)",
      "Cell \u001b[0;32mIn[36], line 12\u001b[0m\n\u001b[1;32m      3\u001b[0m loss_fn \u001b[38;5;241m=\u001b[39m nn\u001b[38;5;241m.\u001b[39mCrossEntropyLoss()\n\u001b[1;32m      5\u001b[0m training_loop( \n\u001b[1;32m      6\u001b[0m     n_epochs \u001b[38;5;241m=\u001b[39m \u001b[38;5;241m100\u001b[39m,\n\u001b[1;32m      7\u001b[0m     optimizer \u001b[38;5;241m=\u001b[39m optimizer, \n\u001b[0;32m   (...)\u001b[0m\n\u001b[1;32m     10\u001b[0m     train_loader \u001b[38;5;241m=\u001b[39m train_loader\n\u001b[1;32m     11\u001b[0m )\n\u001b[0;32m---> 12\u001b[0m \u001b[43mall_acc_dict\u001b[49m[\u001b[38;5;124m\"\u001b[39m\u001b[38;5;124mdropout\u001b[39m\u001b[38;5;124m\"\u001b[39m] \u001b[38;5;241m=\u001b[39m validate(model, train_loader, val_loader)\n",
      "\u001b[0;31mNameError\u001b[0m: name 'all_acc_dict' is not defined"
     ]
    }
   ],
   "source": [
    "model = NetDropout(n_chans1=32)\n",
    "optimizer = optim.SGD(model.parameters(), lr=1e-2) \n",
    "loss_fn = nn.CrossEntropyLoss()\n",
    "\n",
    "training_loop( \n",
    "    n_epochs = 100,\n",
    "    optimizer = optimizer, \n",
    "    model = model.train(),\n",
    "    loss_fn = loss_fn, \n",
    "    train_loader = train_loader\n",
    ")\n",
    "all_acc_dict[\"dropout\"] = validate(model, train_loader, val_loader)"
   ]
  },
  {
   "cell_type": "markdown",
   "id": "1bd36261",
   "metadata": {},
   "source": [
    "# Problem: Covariate Shift"
   ]
  },
  {
   "cell_type": "markdown",
   "id": "b91e3733",
   "metadata": {},
   "source": [
    "오해: minibatch를 써서 generalize 효과를 가지는 것과 batch normalization은 다르다"
   ]
  },
  {
   "cell_type": "markdown",
   "id": "370f8fa7",
   "metadata": {},
   "source": [
    "## Covariate Shift\n",
    ": training과 test의 환경이 달라서 발생하는 문제  \n",
    "training 편향 유의\n",
    "## Internal Covariate Shift\n",
    ": 학습망에서 작은 입력값의 차이로 시작한게 끝에 가서는 큰 차이가 될 수 있다.  \n",
    "나비효과  \n",
    "  \n",
    "=> standard하게 normalize 해주자"
   ]
  },
  {
   "cell_type": "markdown",
   "id": "355988a1",
   "metadata": {},
   "source": [
    "## Batch Normalization\n",
    "== activation의 input을 표준화하는 것이 주요포인트  \n",
    "-> 출력이 미치는 영향을 같은 scale로 바꿔준다는 관점으로도 볼 수 있다.  \n",
    "-> regularization 효과  \n",
    "-> learning rate 빠르게 적용(0근방에서 tanh의 기울기가 크므로)\n",
    "  \n",
    "Batch 단위로 표준화해버린다.  \n",
    "평균 0 표준편차 1인 데이터로 rescale\n",
    "### Input -> Linear -> Batch norm -> Activation -(Pool)> Output"
   ]
  },
  {
   "cell_type": "code",
   "execution_count": 37,
   "id": "c94961ea",
   "metadata": {},
   "outputs": [],
   "source": [
    "class NetBatchNorm(nn.Module): \n",
    "    def __init__(self, n_chans1=32):\n",
    "        super().__init__()\n",
    "        self.n_chans1 = n_chans1\n",
    "        self.conv1 = nn.Conv2d(3, n_chans1, kernel_size=3, padding=1)\n",
    "        \n",
    "        #output = width를 chans1를 표현한 것의 장점\n",
    "        #batch norm에서 레이어 개수가 쓰인다!\n",
    "        self.conv1_batchnorm = nn.BatchNorm2d(num_features=n_chans1) \n",
    "        self.conv2 = nn.Conv2d(n_chans1, n_chans1 // 2, kernel_size=3, padding=1)\n",
    "        self.conv2_batchnorm = nn.BatchNorm2d(num_features=n_chans1 // 2) \n",
    "        self.fc1 = nn.Linear(8 * 8 * n_chans1 // 2, 32)\n",
    "        self.fc2 = nn.Linear(32, 2)\n",
    "        \n",
    "    def forward(self, x):\n",
    "        out = self.conv1_batchnorm(self.conv1(x)) \n",
    "        out = F.max_pool2d(torch.tanh(out), 2)\n",
    "        out = self.conv2_batchnorm(self.conv2(out)) \n",
    "        out = F.max_pool2d(torch.tanh(out), 2)\n",
    "        out = out.view(-1, 8 * 8 * self.n_chans1 // 2) \n",
    "        out = torch.tanh(self.fc1(out))\n",
    "        out = self.fc2(out)\n",
    "        return out"
   ]
  },
  {
   "cell_type": "markdown",
   "id": "39432171",
   "metadata": {},
   "source": [
    "주의  \n",
    "in Training..  \n",
    "normalize + running estimate for m&sd  \n",
    "  \n",
    "in Inferencing..  \n",
    "normalize\n",
    "### why running estimate를 살펴보는가?\n",
    "- batch normalization은 mini-batch를 사용\n",
    "- 데이터는 전체가 아닌 일부\n",
    "- normal화 한 값 또한 전체가 아닌 일부에 대한 평균, 표준편차 값\n",
    "- 평균, 표준편차의 값이 batch마다 튀지 않게 살펴본다"
   ]
  },
  {
   "cell_type": "markdown",
   "id": "cf320fec",
   "metadata": {},
   "source": [
    "# We need to go deeper\n",
    "depth ~ data의 hierarchcal 특성을 나타냄  \n",
    "but... deeper -> error\n",
    "### 문제: deeper == error↑\n",
    "as vanishing  \n",
    "or i think it can be super hierarchical thing is  \n",
    "### 해결: gradient flow\n",
    "by skip-connection"
   ]
  },
  {
   "cell_type": "markdown",
   "id": "ee91ca3b",
   "metadata": {},
   "source": [
    "# ResNet"
   ]
  },
  {
   "cell_type": "code",
   "execution_count": 59,
   "id": "d46e1340",
   "metadata": {},
   "outputs": [],
   "source": [
    "class NetRes(nn.Module):\n",
    "    def __init__(self, n_chans1=32):\n",
    "        super().__init__()\n",
    "        self.n_chans1 = n_chans1\n",
    "        self.conv1 = nn.Conv2d(3, n_chans1, kernel_size=3, padding=1)\n",
    "        self.conv2 = nn.Conv2d(n_chans1, n_chans1 // 2, kernel_size=3, padding=1) \n",
    "        self.conv3 = nn.Conv2d(n_chans1 // 2, n_chans1 // 2, kernel_size=3, padding=1) \n",
    "        self.fc1 = nn.Linear(4 * 4 * n_chans1 // 2, 32)\n",
    "        self.fc2 = nn.Linear(32, 2)\n",
    "        \n",
    "    def forward(self, x):\n",
    "        out = F.max_pool2d(torch.relu(self.conv1(x)), 2)\n",
    "        out = F.max_pool2d(torch.relu(self.conv2(out)), 2)\n",
    "        out1 = out\n",
    "        out = F.max_pool2d(torch.relu(self.conv3(out)) + out1, 2) \n",
    "        out = out.view(-1, 4 * 4 * self.n_chans1 // 2)\n",
    "        out = torch.relu(self.fc1(out))\n",
    "        out = self.fc2(out)\n",
    "        return out"
   ]
  },
  {
   "cell_type": "markdown",
   "id": "c20bf112",
   "metadata": {},
   "source": [
    "### DenseNet\n",
    "= skip connection-- one to many  \n",
    "to make block..?"
   ]
  },
  {
   "cell_type": "markdown",
   "id": "05720715",
   "metadata": {},
   "source": [
    "# To go deeper,\n",
    "vanishing 문제 해결, next?"
   ]
  },
  {
   "cell_type": "markdown",
   "id": "b246e24b",
   "metadata": {},
   "source": [
    "## LOOP{BLOCK} -> Make deep nn.components easier!\n",
    "block= conv->relu->conv->skip"
   ]
  },
  {
   "cell_type": "markdown",
   "id": "3d4dec8f",
   "metadata": {},
   "source": [
    "### Block\n",
    "by 논문..  \n",
    "bias=False  \n",
    "torch.nn.init.kaiming_normal_ ->  \n",
    "init.constant_(batch_norm.weight 0.5) ->  \n",
    "nn.init.zeros_(batch_norm,bias) ->"
   ]
  },
  {
   "cell_type": "code",
   "execution_count": 40,
   "id": "05cd4413",
   "metadata": {},
   "outputs": [],
   "source": [
    "class ResBlock(nn.Module):\n",
    "    def __init__(self, n_chans):\n",
    "        super(ResBlock, self).__init__()\n",
    "        # bias=False\n",
    "        self.conv = nn.Conv2d(n_chans, n_chans, kernel_size=3,padding=1, bias=False)\n",
    "        self.batch_norm = nn.BatchNorm2d(num_features = n_chans)\n",
    "        # 이 아래는 논문에 의한 값들\n",
    "        torch.nn.init.kaiming_normal_(self.conv.weight, nonlinearity='relu')\n",
    "        torch.nn.init.constant_(self.batch_norm.weight, 0.5) \n",
    "        torch.nn.init.zeros_(self.batch_norm.bias)\n",
    "        #\n",
    "    \n",
    "    def forward(self, x):\n",
    "        out = self.conv(x)\n",
    "        out = self.batch_norm(out) \n",
    "        out = torch.relu(out) \n",
    "        # out+x로 skip connection 표현\n",
    "        return out + x"
   ]
  },
  {
   "cell_type": "markdown",
   "id": "65a96710",
   "metadata": {},
   "source": [
    "### ResBlock을 포함한 네트워크 Class\n",
    "*(n * block) -> block들 unpacking, loop  "
   ]
  },
  {
   "cell_type": "code",
   "execution_count": 43,
   "id": "9882a49a",
   "metadata": {},
   "outputs": [],
   "source": [
    "class NetResDeep(nn.Module):\n",
    "    def __init__(self, n_chans1=32, n_blocks=10): # number of layers\n",
    "        super().__init__() \n",
    "        self.n_chans1 = n_chans1\n",
    "        self.conv1 = nn.Conv2d(3, n_chans1, kernel_size=3, padding=1) \n",
    "        # Sequential에 n*Block unpacking -> self.res_block에 저장\n",
    "        self.resblocks = nn.Sequential(\n",
    "            *(n_blocks * [ResBlock(n_chans=n_chans1)])) \n",
    "        self.fc1 = nn.Linear(8 * 8 * n_chans1, 32)\n",
    "        self.fc2 = nn.Linear(32, 2)\n",
    "        \n",
    "    def forward(self, x):\n",
    "        out = F.max_pool2d(torch.relu(self.conv1(x)), 2) \n",
    "        # 10*4 layer를 거친것임\n",
    "        out = self.resblocks(out)\n",
    "        out = F.max_pool2d(out, 2)\n",
    "        out = out.view(-1, 8 * 8 * self.n_chans1) \n",
    "        out = torch.relu(self.fc1(out))\n",
    "        out = self.fc2(out)\n",
    "        return out"
   ]
  },
  {
   "cell_type": "markdown",
   "id": "b834d89f",
   "metadata": {},
   "source": [
    "# Keyword 정리\n",
    "- nn.Conv2d(--,--,--), nn.MaxPool2d(--)\n",
    "- kernel_size, padding\n",
    "- conv(img.unsqueezee(0))\n",
    "- 도대체 왜 conv.weight.fill_ & conv.bias.zero_\n",
    "- out[].detach <- 해당 차원 삭제\n",
    "  \n",
    "- Class Net(nn.Module):  \n",
    "def __init__(self):  \n",
    "def forward(self, x):\n",
    "- torch.nn.functional\n",
    "- nn.BatchNorm2d()"
   ]
  }
 ],
 "metadata": {
  "kernelspec": {
   "display_name": "Python 3 (ipykernel)",
   "language": "python",
   "name": "python3"
  },
  "language_info": {
   "codemirror_mode": {
    "name": "ipython",
    "version": 3
   },
   "file_extension": ".py",
   "mimetype": "text/x-python",
   "name": "python",
   "nbconvert_exporter": "python",
   "pygments_lexer": "ipython3",
   "version": "3.10.9"
  }
 },
 "nbformat": 4,
 "nbformat_minor": 5
}
